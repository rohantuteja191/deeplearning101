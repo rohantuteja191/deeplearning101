{
 "cells": [
  {
   "cell_type": "markdown",
   "metadata": {
    "id": "mTwhoFHtmgYV"
   },
   "source": [
    "# Hyper parameter tuning and Regularisation"
   ]
  },
  {
   "cell_type": "markdown",
   "metadata": {
    "id": "ZFY5aeMGoDYJ"
   },
   "source": [
    "## Hyper parameters\n",
    "\n",
    "* No of layers\n",
    "\n",
    "* No of units\n",
    "\n",
    "* Activation function\n",
    "\n",
    "* Loss function\n",
    "\n",
    "* Optimizer\n",
    "\n",
    "* Dropout rate\n",
    "\n",
    "* Learning rate\n",
    "\n",
    "* Epoch\n",
    "\n",
    "* Etc.."
   ]
  },
  {
   "cell_type": "markdown",
   "metadata": {
    "id": "MSL66AisocAO"
   },
   "source": [
    "### No of layers:\n",
    "\n",
    "* Output layer: One\n",
    "\n",
    "* Input Layer: One\n",
    "\n",
    "* Hidden Layers: At least one, depends upon the problem and complexity.\n",
    "\n",
    "\n"
   ]
  },
  {
   "cell_type": "markdown",
   "metadata": {
    "id": "r1dC0yaho2_j"
   },
   "source": [
    "### No of units:\n",
    "\n",
    "* Output layer:\n",
    "\n",
    "    * Regression: One\n",
    "\n",
    "    * Binary classiifcation: One/ Two depends upon activation function\n",
    "\n",
    "    * Multi-class classification: No of classes.\n",
    "\n",
    "* Input layer: Depends upon the no of features/values in the data point \n",
    "\n",
    "* Hidden layer: Depends, generally between 10 and 100."
   ]
  },
  {
   "cell_type": "markdown",
   "metadata": {
    "id": "xKT8HIR7pmfp"
   },
   "source": [
    "### Activation function\n",
    "\n",
    "* Output layer\n",
    "\n",
    "    * Regression: Linear\n",
    "\n",
    "    * Binary classification: sigmoid (if the class labels are 0 and 1)\n",
    "\n",
    "                             tanh (if the class labels are -1 and 1)\n",
    "\n",
    "    * Multi-class classiifcation: softmax.\n",
    "\n",
    "* Hidden layer: 'relu', in general."
   ]
  },
  {
   "cell_type": "markdown",
   "metadata": {
    "id": "2ZKQTfDsqauT"
   },
   "source": [
    "### Loss function\n",
    "\n",
    "* Regression: MAE, MSE(more preferred)\n",
    "\n",
    "* Binary classification: BinaryCrossentropy\n",
    "\n",
    "* Multi-class Classification: Categorical Crossentropy /\n",
    "                              Sparse Categorical Crossentropy"
   ]
  },
  {
   "cell_type": "markdown",
   "metadata": {
    "id": "9q-k6Y6Eq625"
   },
   "source": [
    "### Optimizer\n",
    "\n",
    "* Adam, in general"
   ]
  },
  {
   "cell_type": "markdown",
   "metadata": {
    "id": "jMo_ydECuH2i"
   },
   "source": [
    "# Regularisation"
   ]
  },
  {
   "cell_type": "code",
   "execution_count": 2,
   "metadata": {
    "id": "7VBIJThZmVzR"
   },
   "outputs": [],
   "source": [
    "import pandas as pd\n",
    "import numpy as np\n",
    "import matplotlib.pyplot as plt\n",
    "import tensorflow as tf"
   ]
  },
  {
   "cell_type": "markdown",
   "metadata": {
    "id": "W6SGHwouuXoM"
   },
   "source": [
    "## Accessing the dataset"
   ]
  },
  {
   "cell_type": "code",
   "execution_count": 3,
   "metadata": {
    "id": "GJkJgmuzuTXq"
   },
   "outputs": [],
   "source": [
    "from tensorflow.keras.datasets import mnist\n",
    "\n",
    "(X_train,y_train),(X_test,y_test)=mnist.load_data()"
   ]
  },
  {
   "cell_type": "code",
   "execution_count": 4,
   "metadata": {
    "colab": {
     "base_uri": "https://localhost:8080/"
    },
    "id": "TWMxdnpHuqye",
    "outputId": "f2e281c4-88ed-48e3-cf6b-98c17a943f41"
   },
   "outputs": [
    {
     "data": {
      "text/plain": [
       "((60000, 28, 28), (60000,), (10000, 28, 28), (10000,))"
      ]
     },
     "execution_count": 4,
     "metadata": {},
     "output_type": "execute_result"
    }
   ],
   "source": [
    "X_train.shape,y_train.shape,X_test.shape,y_test.shape"
   ]
  },
  {
   "cell_type": "code",
   "execution_count": 5,
   "metadata": {
    "colab": {
     "base_uri": "https://localhost:8080/"
    },
    "id": "Tjy--4mIuzCk",
    "outputId": "9842541d-7535-405f-dd99-f06b24354ff1"
   },
   "outputs": [
    {
     "data": {
      "text/plain": [
       "array([[  0,   0,   0,   0,   0,   0,   0,   0,   0,   0,   0,   0,   0,\n",
       "          0,   0,   0,   0,   0,   0,   0,   0,   0,   0,   0,   0,   0,\n",
       "          0,   0],\n",
       "       [  0,   0,   0,   0,   0,   0,   0,   0,   0,   0,   0,   0,   0,\n",
       "          0,   0,   0,   0,   0,   0,   0,   0,   0,   0,   0,   0,   0,\n",
       "          0,   0],\n",
       "       [  0,   0,   0,   0,   0,   0,   0,   0,   0,   0,   0,   0,   0,\n",
       "          0,   0,   0,   0,   0,   0,   0,   0,   0,   0,   0,   0,   0,\n",
       "          0,   0],\n",
       "       [  0,   0,   0,   0,   0,   0,   0,   0,   0,   0,   0,   0,   0,\n",
       "          0,   0,   0,   0,   0,   0,   0,   0,   0,   0,   0,   0,   0,\n",
       "          0,   0],\n",
       "       [  0,   0,   0,   0,   0,   0,   0,   0,   0,   0,   0,   0,   0,\n",
       "          0,   0,   0,   0,   0,   0,   0,   0,   0,   0,   0,   0,   0,\n",
       "          0,   0],\n",
       "       [  0,   0,   0,   0,   0,   0,   0,   0,   0,   0,   0,   0,   3,\n",
       "         18,  18,  18, 126, 136, 175,  26, 166, 255, 247, 127,   0,   0,\n",
       "          0,   0],\n",
       "       [  0,   0,   0,   0,   0,   0,   0,   0,  30,  36,  94, 154, 170,\n",
       "        253, 253, 253, 253, 253, 225, 172, 253, 242, 195,  64,   0,   0,\n",
       "          0,   0],\n",
       "       [  0,   0,   0,   0,   0,   0,   0,  49, 238, 253, 253, 253, 253,\n",
       "        253, 253, 253, 253, 251,  93,  82,  82,  56,  39,   0,   0,   0,\n",
       "          0,   0],\n",
       "       [  0,   0,   0,   0,   0,   0,   0,  18, 219, 253, 253, 253, 253,\n",
       "        253, 198, 182, 247, 241,   0,   0,   0,   0,   0,   0,   0,   0,\n",
       "          0,   0],\n",
       "       [  0,   0,   0,   0,   0,   0,   0,   0,  80, 156, 107, 253, 253,\n",
       "        205,  11,   0,  43, 154,   0,   0,   0,   0,   0,   0,   0,   0,\n",
       "          0,   0],\n",
       "       [  0,   0,   0,   0,   0,   0,   0,   0,   0,  14,   1, 154, 253,\n",
       "         90,   0,   0,   0,   0,   0,   0,   0,   0,   0,   0,   0,   0,\n",
       "          0,   0],\n",
       "       [  0,   0,   0,   0,   0,   0,   0,   0,   0,   0,   0, 139, 253,\n",
       "        190,   2,   0,   0,   0,   0,   0,   0,   0,   0,   0,   0,   0,\n",
       "          0,   0],\n",
       "       [  0,   0,   0,   0,   0,   0,   0,   0,   0,   0,   0,  11, 190,\n",
       "        253,  70,   0,   0,   0,   0,   0,   0,   0,   0,   0,   0,   0,\n",
       "          0,   0],\n",
       "       [  0,   0,   0,   0,   0,   0,   0,   0,   0,   0,   0,   0,  35,\n",
       "        241, 225, 160, 108,   1,   0,   0,   0,   0,   0,   0,   0,   0,\n",
       "          0,   0],\n",
       "       [  0,   0,   0,   0,   0,   0,   0,   0,   0,   0,   0,   0,   0,\n",
       "         81, 240, 253, 253, 119,  25,   0,   0,   0,   0,   0,   0,   0,\n",
       "          0,   0],\n",
       "       [  0,   0,   0,   0,   0,   0,   0,   0,   0,   0,   0,   0,   0,\n",
       "          0,  45, 186, 253, 253, 150,  27,   0,   0,   0,   0,   0,   0,\n",
       "          0,   0],\n",
       "       [  0,   0,   0,   0,   0,   0,   0,   0,   0,   0,   0,   0,   0,\n",
       "          0,   0,  16,  93, 252, 253, 187,   0,   0,   0,   0,   0,   0,\n",
       "          0,   0],\n",
       "       [  0,   0,   0,   0,   0,   0,   0,   0,   0,   0,   0,   0,   0,\n",
       "          0,   0,   0,   0, 249, 253, 249,  64,   0,   0,   0,   0,   0,\n",
       "          0,   0],\n",
       "       [  0,   0,   0,   0,   0,   0,   0,   0,   0,   0,   0,   0,   0,\n",
       "          0,  46, 130, 183, 253, 253, 207,   2,   0,   0,   0,   0,   0,\n",
       "          0,   0],\n",
       "       [  0,   0,   0,   0,   0,   0,   0,   0,   0,   0,   0,   0,  39,\n",
       "        148, 229, 253, 253, 253, 250, 182,   0,   0,   0,   0,   0,   0,\n",
       "          0,   0],\n",
       "       [  0,   0,   0,   0,   0,   0,   0,   0,   0,   0,  24, 114, 221,\n",
       "        253, 253, 253, 253, 201,  78,   0,   0,   0,   0,   0,   0,   0,\n",
       "          0,   0],\n",
       "       [  0,   0,   0,   0,   0,   0,   0,   0,  23,  66, 213, 253, 253,\n",
       "        253, 253, 198,  81,   2,   0,   0,   0,   0,   0,   0,   0,   0,\n",
       "          0,   0],\n",
       "       [  0,   0,   0,   0,   0,   0,  18, 171, 219, 253, 253, 253, 253,\n",
       "        195,  80,   9,   0,   0,   0,   0,   0,   0,   0,   0,   0,   0,\n",
       "          0,   0],\n",
       "       [  0,   0,   0,   0,  55, 172, 226, 253, 253, 253, 253, 244, 133,\n",
       "         11,   0,   0,   0,   0,   0,   0,   0,   0,   0,   0,   0,   0,\n",
       "          0,   0],\n",
       "       [  0,   0,   0,   0, 136, 253, 253, 253, 212, 135, 132,  16,   0,\n",
       "          0,   0,   0,   0,   0,   0,   0,   0,   0,   0,   0,   0,   0,\n",
       "          0,   0],\n",
       "       [  0,   0,   0,   0,   0,   0,   0,   0,   0,   0,   0,   0,   0,\n",
       "          0,   0,   0,   0,   0,   0,   0,   0,   0,   0,   0,   0,   0,\n",
       "          0,   0],\n",
       "       [  0,   0,   0,   0,   0,   0,   0,   0,   0,   0,   0,   0,   0,\n",
       "          0,   0,   0,   0,   0,   0,   0,   0,   0,   0,   0,   0,   0,\n",
       "          0,   0],\n",
       "       [  0,   0,   0,   0,   0,   0,   0,   0,   0,   0,   0,   0,   0,\n",
       "          0,   0,   0,   0,   0,   0,   0,   0,   0,   0,   0,   0,   0,\n",
       "          0,   0]], dtype=uint8)"
      ]
     },
     "execution_count": 5,
     "metadata": {},
     "output_type": "execute_result"
    }
   ],
   "source": [
    "X_train[0]"
   ]
  },
  {
   "cell_type": "markdown",
   "metadata": {
    "id": "hFTDpsR6vEdX"
   },
   "source": [
    "## Visualisation"
   ]
  },
  {
   "cell_type": "code",
   "execution_count": 6,
   "metadata": {
    "colab": {
     "base_uri": "https://localhost:8080/",
     "height": 281
    },
    "id": "nuQKo3L9u77V",
    "outputId": "896b099a-1e5f-40da-b48d-93286a910b16"
   },
   "outputs": [
    {
     "data": {
      "image/png": "[encoded data removed]",
      "text/plain": [
       "<Figure size 432x288 with 1 Axes>"
      ]
     },
     "metadata": {
      "needs_background": "light"
     },
     "output_type": "display_data"
    }
   ],
   "source": [
    "plt.imshow(X_train[0],'gray')\n",
    "plt.title(y_train[0]);"
   ]
  },
  {
   "cell_type": "code",
   "execution_count": 7,
   "metadata": {
    "colab": {
     "base_uri": "https://localhost:8080/",
     "height": 281
    },
    "id": "ms4hQj3pvMzN",
    "outputId": "b85749a2-b187-4290-a0e8-c3af8efbe4e4"
   },
   "outputs": [
    {
     "data": {
      "image/png": "[encoded data removed]",
      "text/plain": [
       "<Figure size 432x288 with 1 Axes>"
      ]
     },
     "metadata": {
      "needs_background": "light"
     },
     "output_type": "display_data"
    }
   ],
   "source": [
    "plt.imshow(X_train[10],'gray')\n",
    "plt.title(y_train[10]);"
   ]
  },
  {
   "cell_type": "code",
   "execution_count": 8,
   "metadata": {
    "colab": {
     "base_uri": "https://localhost:8080/",
     "height": 281
    },
    "id": "AtZ-KNoZvUB1",
    "outputId": "37cc2efa-17f5-4db4-8c93-bf3003533847"
   },
   "outputs": [
    {
     "data": {
      "image/png": "[encoded data removed]",
      "text/plain": [
       "<Figure size 432x288 with 1 Axes>"
      ]
     },
     "metadata": {
      "needs_background": "light"
     },
     "output_type": "display_data"
    }
   ],
   "source": [
    "plt.imshow(X_train[100],'gray')\n",
    "plt.title(y_train[100]);"
   ]
  },
  {
   "cell_type": "code",
   "execution_count": 9,
   "metadata": {
    "colab": {
     "base_uri": "https://localhost:8080/",
     "height": 281
    },
    "id": "hxxqHQ0avWyR",
    "outputId": "d92e38fe-bfbc-42bb-e1aa-5df7e170083c"
   },
   "outputs": [
    {
     "data": {
      "image/png": "[encoded data removed]",
      "text/plain": [
       "<Figure size 432x288 with 1 Axes>"
      ]
     },
     "metadata": {
      "needs_background": "light"
     },
     "output_type": "display_data"
    }
   ],
   "source": [
    "plt.imshow(X_train[1000],'gray')\n",
    "plt.title(y_train[1000]);"
   ]
  },
  {
   "cell_type": "code",
   "execution_count": 10,
   "metadata": {
    "colab": {
     "base_uri": "https://localhost:8080/",
     "height": 281
    },
    "id": "-LKZR0c_vanr",
    "outputId": "335f8c1e-3c11-489d-9279-3597277f7136"
   },
   "outputs": [
    {
     "data": {
      "image/png": "[encoded data removed]",
      "text/plain": [
       "<Figure size 432x288 with 1 Axes>"
      ]
     },
     "metadata": {
      "needs_background": "light"
     },
     "output_type": "display_data"
    }
   ],
   "source": [
    "plt.imshow(X_train[10000],'gray')\n",
    "plt.title(y_train[10000]);"
   ]
  },
  {
   "cell_type": "code",
   "execution_count": 11,
   "metadata": {
    "colab": {
     "base_uri": "https://localhost:8080/",
     "height": 281
    },
    "id": "fPqZsUpNvdpB",
    "outputId": "adcb7edb-3a8f-452a-a905-6bcf11d8eb83"
   },
   "outputs": [
    {
     "data": {
      "image/png": "[encoded data removed]",
      "text/plain": [
       "<Figure size 432x288 with 1 Axes>"
      ]
     },
     "metadata": {
      "needs_background": "light"
     },
     "output_type": "display_data"
    }
   ],
   "source": [
    "plt.imshow(X_train[40000],'gray')\n",
    "plt.title(y_train[40000]);"
   ]
  },
  {
   "cell_type": "code",
   "execution_count": 12,
   "metadata": {
    "colab": {
     "base_uri": "https://localhost:8080/"
    },
    "id": "PCFmKfL3vgDp",
    "outputId": "b23daa45-0396-45c2-bfa9-e4cba0c97f61"
   },
   "outputs": [
    {
     "data": {
      "text/plain": [
       "1    6742\n",
       "7    6265\n",
       "3    6131\n",
       "2    5958\n",
       "9    5949\n",
       "0    5923\n",
       "6    5918\n",
       "8    5851\n",
       "4    5842\n",
       "5    5421\n",
       "dtype: int64"
      ]
     },
     "execution_count": 12,
     "metadata": {},
     "output_type": "execute_result"
    }
   ],
   "source": [
    "pd.DataFrame(y_train).value_counts()"
   ]
  },
  {
   "cell_type": "markdown",
   "metadata": {
    "id": "JhxKhbYyv6Au"
   },
   "source": [
    "## Building a Basic Model"
   ]
  },
  {
   "cell_type": "code",
   "execution_count": 13,
   "metadata": {
    "id": "O-0sKcPFvnmZ"
   },
   "outputs": [],
   "source": [
    "model_1=tf.keras.Sequential()\n",
    "model_1.add(tf.keras.layers.Flatten())\n",
    "model_1.add(tf.keras.layers.Dense(300, activation='relu'))\n",
    "model_1.add(tf.keras.layers.Dense(10,activation='softmax'))"
   ]
  },
  {
   "cell_type": "code",
   "execution_count": 14,
   "metadata": {
    "id": "LCGujgXLwppl"
   },
   "outputs": [],
   "source": [
    "# compiling the model\n",
    "model_1.compile(loss=tf.keras.losses.SparseCategoricalCrossentropy(),\n",
    "                optimizer=tf.keras.optimizers.Adam(),\n",
    "                metrics=['accuracy'])"
   ]
  },
  {
   "cell_type": "code",
   "execution_count": 15,
   "metadata": {
    "colab": {
     "base_uri": "https://localhost:8080/",
     "height": 612
    },
    "id": "zEHhts8uxC8P",
    "outputId": "1e0b6ab6-538f-4aa5-c0b4-06a983baf5f0"
   },
   "outputs": [
    {
     "name": "stdout",
     "output_type": "stream",
     "text": [
      "Epoch 1/10\n",
      "1875/1875 [==============================] - 9s 5ms/step - loss: 2.3320 - accuracy: 0.8881\n",
      "Epoch 2/10\n",
      "1875/1875 [==============================] - 8s 4ms/step - loss: 0.3456 - accuracy: 0.9251\n",
      "Epoch 3/10\n",
      "1875/1875 [==============================] - 8s 4ms/step - loss: 0.2736 - accuracy: 0.9369\n",
      "Epoch 4/10\n",
      "1875/1875 [==============================] - 9s 5ms/step - loss: 0.2498 - accuracy: 0.9413\n",
      "Epoch 5/10\n",
      "1875/1875 [==============================] - 9s 5ms/step - loss: 0.2345 - accuracy: 0.9471\n",
      "Epoch 6/10\n",
      "1875/1875 [==============================] - 8s 4ms/step - loss: 0.2162 - accuracy: 0.9504\n",
      "Epoch 7/10\n",
      "1875/1875 [==============================] - 8s 4ms/step - loss: 0.2054 - accuracy: 0.9548\n",
      "Epoch 8/10\n",
      "1875/1875 [==============================] - 8s 4ms/step - loss: 0.2001 - accuracy: 0.9559\n",
      "Epoch 9/10\n",
      "1875/1875 [==============================] - 8s 4ms/step - loss: 0.1936 - accuracy: 0.9590\n",
      "Epoch 10/10\n",
      "1875/1875 [==============================] - 8s 4ms/step - loss: 0.1852 - accuracy: 0.9605\n"
     ]
    },
    {
     "data": {
      "image/png": "[encoded data removed]",
      "text/plain": [
       "<Figure size 432x288 with 1 Axes>"
      ]
     },
     "metadata": {
      "needs_background": "light"
     },
     "output_type": "display_data"
    }
   ],
   "source": [
    "# Training the model\n",
    "\n",
    "tf.random.set_seed(100)\n",
    "hist_1=model_1.fit(X_train,y_train,epochs=10)\n",
    "pd.DataFrame(hist_1.history).plot();"
   ]
  },
  {
   "cell_type": "code",
   "execution_count": 16,
   "metadata": {
    "colab": {
     "base_uri": "https://localhost:8080/"
    },
    "id": "nZjdiaDrxbBu",
    "outputId": "c0bcbfe0-9065-40c8-da66-50442a1d7e05"
   },
   "outputs": [
    {
     "name": "stdout",
     "output_type": "stream",
     "text": [
      "313/313 [==============================] - 1s 3ms/step - loss: 0.3103 - accuracy: 0.9537\n"
     ]
    },
    {
     "data": {
      "text/plain": [
       "[0.31031742691993713, 0.9537000060081482]"
      ]
     },
     "execution_count": 16,
     "metadata": {},
     "output_type": "execute_result"
    }
   ],
   "source": [
    "# Evaluation of the model\n",
    "\n",
    "model_1.evaluate(X_test,y_test)"
   ]
  },
  {
   "cell_type": "markdown",
   "metadata": {
    "id": "nLML0-nByVyI"
   },
   "source": [
    "## Comment 1:\n",
    "\n",
    "Basic Model: Training loss=0.1852; Test loss=0.3103( Model is decent, but overfitting)."
   ]
  },
  {
   "cell_type": "markdown",
   "metadata": {
    "id": "-qlIv74MyreF"
   },
   "source": [
    "## Model with normalization"
   ]
  },
  {
   "cell_type": "code",
   "execution_count": 17,
   "metadata": {
    "id": "iica-4hkyLVp"
   },
   "outputs": [],
   "source": [
    "# Normalization\n",
    "\n",
    "normalizer=tf.keras.layers.Normalization()\n",
    "normalizer.adapt(X_train)\n",
    "normalizer.adapt(X_test)\n",
    "\n",
    "X_train=normalizer(X_train)\n",
    "X_test=normalizer(X_test)"
   ]
  },
  {
   "cell_type": "code",
   "execution_count": 18,
   "metadata": {
    "colab": {
     "base_uri": "https://localhost:8080/"
    },
    "id": "4mXmbdUX0O9n",
    "outputId": "85ac4e49-e56e-4f2e-9c8e-945190343859"
   },
   "outputs": [
    {
     "data": {
      "text/plain": [
       "<tf.Tensor: shape=(28, 28), dtype=float32, numpy=\n",
       "array([[-3.29633080e-03, -1.03209605e-02, -2.63224952e-02,\n",
       "        -5.94727769e-02, -1.16537198e-01, -1.97390229e-01,\n",
       "        -2.83805698e-01, -3.79412591e-01, -4.77584034e-01,\n",
       "        -5.62326729e-01, -6.23078227e-01, -6.59251928e-01,\n",
       "        -6.87425375e-01, -7.26367414e-01, -7.58370578e-01,\n",
       "        -7.74074256e-01, -7.61724949e-01, -7.22140551e-01,\n",
       "        -6.51364148e-01, -5.54406047e-01, -4.51524764e-01,\n",
       "        -3.54017019e-01, -2.68543184e-01, -1.91750199e-01,\n",
       "        -1.24660455e-01, -6.43352345e-02, -2.87100654e-02,\n",
       "        -8.99783615e-03],\n",
       "       [-3.29633080e-03, -1.03209605e-02, -2.63224952e-02,\n",
       "        -5.94727769e-02, -1.16537198e-01, -1.97390229e-01,\n",
       "        -2.83805698e-01, -3.79412591e-01, -4.77584034e-01,\n",
       "        -5.62326729e-01, -6.23078227e-01, -6.59251928e-01,\n",
       "        -6.87425375e-01, -7.26367414e-01, -7.58370578e-01,\n",
       "        -7.74074256e-01, -7.61724949e-01, -7.22140551e-01,\n",
       "        -6.51364148e-01, -5.54406047e-01, -4.51524764e-01,\n",
       "        -3.54017019e-01, -2.68543184e-01, -1.91750199e-01,\n",
       "        -1.24660455e-01, -6.43352345e-02, -2.87100654e-02,\n",
       "        -8.99783615e-03],\n",
       "       [-3.29633080e-03, -1.03209605e-02, -2.63224952e-02,\n",
       "        -5.94727769e-02, -1.16537198e-01, -1.97390229e-01,\n",
       "        -2.83805698e-01, -3.79412591e-01, -4.77584034e-01,\n",
       "        -5.62326729e-01, -6.23078227e-01, -6.59251928e-01,\n",
       "        -6.87425375e-01, -7.26367414e-01, -7.58370578e-01,\n",
       "        -7.74074256e-01, -7.61724949e-01, -7.22140551e-01,\n",
       "        -6.51364148e-01, -5.54406047e-01, -4.51524764e-01,\n",
       "        -3.54017019e-01, -2.68543184e-01, -1.91750199e-01,\n",
       "        -1.24660455e-01, -6.43352345e-02, -2.87100654e-02,\n",
       "        -8.99783615e-03],\n",
       "       [-3.29633080e-03, -1.03209605e-02, -2.63224952e-02,\n",
       "        -5.94727769e-02, -1.16537198e-01, -1.97390229e-01,\n",
       "        -2.83805698e-01, -3.79412591e-01, -4.77584034e-01,\n",
       "        -5.62326729e-01, -6.23078227e-01, -6.59251928e-01,\n",
       "        -6.87425375e-01, -7.26367414e-01, -7.58370578e-01,\n",
       "        -7.74074256e-01, -7.61724949e-01, -7.22140551e-01,\n",
       "        -6.51364148e-01, -5.54406047e-01, -4.51524764e-01,\n",
       "        -3.54017019e-01, -2.68543184e-01, -1.91750199e-01,\n",
       "        -1.24660455e-01, -6.43352345e-02, -2.87100654e-02,\n",
       "        -8.99783615e-03],\n",
       "       [-3.29633080e-03, -1.03209605e-02, -2.63224952e-02,\n",
       "        -5.94727769e-02, -1.16537198e-01, -1.97390229e-01,\n",
       "        -2.83805698e-01, -3.79412591e-01, -4.77584034e-01,\n",
       "        -5.62326729e-01, -6.23078227e-01, -6.59251928e-01,\n",
       "        -6.87425375e-01, -7.26367414e-01, -7.58370578e-01,\n",
       "        -7.74074256e-01, -7.61724949e-01, -7.22140551e-01,\n",
       "        -6.51364148e-01, -5.54406047e-01, -4.51524764e-01,\n",
       "        -3.54017019e-01, -2.68543184e-01, -1.91750199e-01,\n",
       "        -1.24660455e-01, -6.43352345e-02, -2.87100654e-02,\n",
       "        -8.99783615e-03],\n",
       "       [-3.29633080e-03, -1.03209605e-02, -2.63224952e-02,\n",
       "        -5.94727769e-02, -1.16537198e-01, -1.97390229e-01,\n",
       "        -2.83805698e-01, -3.79412591e-01, -4.77584034e-01,\n",
       "        -5.62326729e-01, -6.23078227e-01, -6.59251928e-01,\n",
       "        -6.58221424e-01, -5.55382252e-01, -5.91231704e-01,\n",
       "        -6.07143462e-01,  4.16704774e-01,  5.67344427e-01,\n",
       "         1.08593071e+00, -2.72850573e-01,  1.60844707e+00,\n",
       "         3.47916603e+00,  4.47211742e+00,  3.19816446e+00,\n",
       "        -1.24660455e-01, -6.43352345e-02, -2.87100654e-02,\n",
       "        -8.99783615e-03],\n",
       "       [-3.29633080e-03, -1.03209605e-02, -2.63224952e-02,\n",
       "        -5.94727769e-02, -1.16537198e-01, -1.97390229e-01,\n",
       "        -2.83805698e-01, -3.79412591e-01, -1.21771954e-01,\n",
       "        -1.78291753e-01,  3.27180088e-01,  8.63192856e-01,\n",
       "         9.67465341e-01,  1.67692387e+00,  1.59085870e+00,\n",
       "         1.57223129e+00,  1.60448718e+00,  1.67668068e+00,\n",
       "         1.58230078e+00,  1.30819166e+00,  2.68807101e+00,\n",
       "         3.28374887e+00,  3.47408342e+00,  1.51655328e+00,\n",
       "        -1.24660455e-01, -6.43352345e-02, -2.87100654e-02,\n",
       "        -8.99783615e-03],\n",
       "       [-3.29633080e-03, -1.03209605e-02, -2.63224952e-02,\n",
       "        -5.94727769e-02, -1.16537198e-01, -1.97390229e-01,\n",
       "        -2.83805698e-01,  3.13044101e-01,  2.34519172e+00,\n",
       "         2.13658571e+00,  1.93453193e+00,  1.84190750e+00,\n",
       "         1.77544141e+00,  1.67692387e+00,  1.59085870e+00,\n",
       "         1.57223129e+00,  1.60448718e+00,  1.65771770e+00,\n",
       "         2.71883965e-01,  3.33576560e-01,  5.66051722e-01,\n",
       "         4.87780064e-01,  4.79982167e-01, -1.91750199e-01,\n",
       "        -1.24660455e-01, -6.43352345e-02, -2.87100654e-02,\n",
       "        -8.99783615e-03],\n",
       "       [-3.29633080e-03, -1.03209605e-02, -2.63224952e-02,\n",
       "        -5.94727769e-02, -1.16537198e-01, -1.97390229e-01,\n",
       "        -2.83805698e-01, -1.25040740e-01,  2.11984396e+00,\n",
       "         2.13658571e+00,  1.93453193e+00,  1.84190750e+00,\n",
       "         1.77544141e+00,  1.67692387e+00,  1.08015668e+00,\n",
       "         9.13781881e-01,  1.54837143e+00,  1.56290257e+00,\n",
       "        -6.51364148e-01, -5.54406047e-01, -4.51524764e-01,\n",
       "        -3.54017019e-01, -2.68543184e-01, -1.91750199e-01,\n",
       "        -1.24660455e-01, -6.43352345e-02, -2.87100654e-02,\n",
       "        -8.99783615e-03],\n",
       "       [-3.29633080e-03, -1.03209605e-02, -2.63224952e-02,\n",
       "        -5.94727769e-02, -1.16537198e-01, -1.97390229e-01,\n",
       "        -2.83805698e-01, -3.79412591e-01,  4.71248180e-01,\n",
       "         1.10182476e+00,  4.58598763e-01,  1.84190750e+00,\n",
       "         1.77544141e+00,  1.22096348e+00, -6.56230152e-01,\n",
       "        -7.74074256e-01, -3.59562427e-01,  7.38011539e-01,\n",
       "        -6.51364148e-01, -5.54406047e-01, -4.51524764e-01,\n",
       "        -3.54017019e-01, -2.68543184e-01, -1.91750199e-01,\n",
       "        -1.24660455e-01, -6.43352345e-02, -2.87100654e-02,\n",
       "        -8.99783615e-03],\n",
       "       [-3.29633080e-03, -1.03209605e-02, -2.63224952e-02,\n",
       "        -5.94727769e-02, -1.16537198e-01, -1.97390229e-01,\n",
       "        -2.83805698e-01, -3.79412591e-01, -4.77584034e-01,\n",
       "        -4.12979782e-01, -6.12969100e-01,  8.63192856e-01,\n",
       "         1.77544141e+00,  1.28558323e-01, -7.58370578e-01,\n",
       "        -7.74074256e-01, -7.61724949e-01, -7.22140551e-01,\n",
       "        -6.51364148e-01, -5.54406047e-01, -4.51524764e-01,\n",
       "        -3.54017019e-01, -2.68543184e-01, -1.91750199e-01,\n",
       "        -1.24660455e-01, -6.43352345e-02, -2.87100654e-02,\n",
       "        -8.99783615e-03],\n",
       "       [-3.29633080e-03, -1.03209605e-02, -2.63224952e-02,\n",
       "        -5.94727769e-02, -1.16537198e-01, -1.97390229e-01,\n",
       "        -2.83805698e-01, -3.79412591e-01, -4.77584034e-01,\n",
       "        -5.62326729e-01, -6.23078227e-01,  7.14902818e-01,\n",
       "         1.77544141e+00,  1.07847583e+00, -7.39799619e-01,\n",
       "        -7.74074256e-01, -7.61724949e-01, -7.22140551e-01,\n",
       "        -6.51364148e-01, -5.54406047e-01, -4.51524764e-01,\n",
       "        -3.54017019e-01, -2.68543184e-01, -1.91750199e-01,\n",
       "        -1.24660455e-01, -6.43352345e-02, -2.87100654e-02,\n",
       "        -8.99783615e-03],\n",
       "       [-3.29633080e-03, -1.03209605e-02, -2.63224952e-02,\n",
       "        -5.94727769e-02, -1.16537198e-01, -1.97390229e-01,\n",
       "        -2.83805698e-01, -3.79412591e-01, -4.77584034e-01,\n",
       "        -5.62326729e-01, -6.23078227e-01, -5.50505877e-01,\n",
       "         1.16215837e+00,  1.67692387e+00, -1.08386181e-01,\n",
       "        -7.74074256e-01, -7.61724949e-01, -7.22140551e-01,\n",
       "        -6.51364148e-01, -5.54406047e-01, -4.51524764e-01,\n",
       "        -3.54017019e-01, -2.68543184e-01, -1.91750199e-01,\n",
       "        -1.24660455e-01, -6.43352345e-02, -2.87100654e-02,\n",
       "        -8.99783615e-03],\n",
       "       [-3.29633080e-03, -1.03209605e-02, -2.63224952e-02,\n",
       "        -5.94727769e-02, -1.16537198e-01, -1.97390229e-01,\n",
       "        -2.83805698e-01, -3.79412591e-01, -4.77584034e-01,\n",
       "        -5.62326729e-01, -6.23078227e-01, -6.59251928e-01,\n",
       "        -3.46712589e-01,  1.56293368e+00,  1.33086503e+00,\n",
       "         7.09755301e-01,  2.48357683e-01, -7.12659001e-01,\n",
       "        -6.51364148e-01, -5.54406047e-01, -4.51524764e-01,\n",
       "        -3.54017019e-01, -2.68543184e-01, -1.91750199e-01,\n",
       "        -1.24660455e-01, -6.43352345e-02, -2.87100654e-02,\n",
       "        -8.99783615e-03],\n",
       "       [-3.29633080e-03, -1.03209605e-02, -2.63224952e-02,\n",
       "        -5.94727769e-02, -1.16537198e-01, -1.97390229e-01,\n",
       "        -2.83805698e-01, -3.79412591e-01, -4.77584034e-01,\n",
       "        -5.62326729e-01, -6.23078227e-01, -6.59251928e-01,\n",
       "        -6.87425375e-01,  4.30657491e-02,  1.47014737e+00,\n",
       "         1.57223129e+00,  1.60448718e+00,  4.06158775e-01,\n",
       "        -4.03179199e-01, -5.54406047e-01, -4.51524764e-01,\n",
       "        -3.54017019e-01, -2.68543184e-01, -1.91750199e-01,\n",
       "        -1.24660455e-01, -6.43352345e-02, -2.87100654e-02,\n",
       "        -8.99783615e-03],\n",
       "       [-3.29633080e-03, -1.03209605e-02, -2.63224952e-02,\n",
       "        -5.94727769e-02, -1.16537198e-01, -1.97390229e-01,\n",
       "        -2.83805698e-01, -3.79412591e-01, -4.77584034e-01,\n",
       "        -5.62326729e-01, -6.23078227e-01, -6.59251928e-01,\n",
       "        -6.87425375e-01, -7.26367414e-01, -3.40523452e-01,\n",
       "         9.50877607e-01,  1.60448718e+00,  1.67668068e+00,\n",
       "         8.37745726e-01, -2.62021512e-01, -4.51524764e-01,\n",
       "        -3.54017019e-01, -2.68543184e-01, -1.91750199e-01,\n",
       "        -1.24660455e-01, -6.43352345e-02, -2.87100654e-02,\n",
       "        -8.99783615e-03],\n",
       "       [-3.29633080e-03, -1.03209605e-02, -2.63224952e-02,\n",
       "        -5.94727769e-02, -1.16537198e-01, -1.97390229e-01,\n",
       "        -2.83805698e-01, -3.79412591e-01, -4.77584034e-01,\n",
       "        -5.62326729e-01, -6.23078227e-01, -6.59251928e-01,\n",
       "        -6.87425375e-01, -7.26367414e-01, -7.58370578e-01,\n",
       "        -6.25691295e-01,  1.08068421e-01,  1.66719925e+00,\n",
       "         1.86026800e+00,  1.47062743e+00, -4.51524764e-01,\n",
       "        -3.54017019e-01, -2.68543184e-01, -1.91750199e-01,\n",
       "        -1.24660455e-01, -6.43352345e-02, -2.87100654e-02,\n",
       "        -8.99783615e-03],\n",
       "       [-3.29633080e-03, -1.03209605e-02, -2.63224952e-02,\n",
       "        -5.94727769e-02, -1.16537198e-01, -1.97390229e-01,\n",
       "        -2.83805698e-01, -3.79412591e-01, -4.77584034e-01,\n",
       "        -5.62326729e-01, -6.23078227e-01, -6.59251928e-01,\n",
       "        -6.87425375e-01, -7.26367414e-01, -7.58370578e-01,\n",
       "        -7.74074256e-01, -7.61724949e-01,  1.63875473e+00,\n",
       "         1.86026800e+00,  2.14202881e+00,  3.42681259e-01,\n",
       "        -3.54017019e-01, -2.68543184e-01, -1.91750199e-01,\n",
       "        -1.24660455e-01, -6.43352345e-02, -2.87100654e-02,\n",
       "        -8.99783615e-03],\n",
       "       [-3.29633080e-03, -1.03209605e-02, -2.63224952e-02,\n",
       "        -5.94727769e-02, -1.16537198e-01, -1.97390229e-01,\n",
       "        -2.83805698e-01, -3.79412591e-01, -4.77584034e-01,\n",
       "        -5.62326729e-01, -6.23078227e-01, -6.59251928e-01,\n",
       "        -6.87425375e-01, -7.26367414e-01, -3.31237972e-01,\n",
       "         4.31537271e-01,  9.49803948e-01,  1.67668068e+00,\n",
       "         1.86026800e+00,  1.68720853e+00, -4.26705807e-01,\n",
       "        -3.54017019e-01, -2.68543184e-01, -1.91750199e-01,\n",
       "        -1.24660455e-01, -6.43352345e-02, -2.87100654e-02,\n",
       "        -8.99783615e-03],\n",
       "       [-3.29633080e-03, -1.03209605e-02, -2.63224952e-02,\n",
       "        -5.94727769e-02, -1.16537198e-01, -1.97390229e-01,\n",
       "        -2.83805698e-01, -3.79412591e-01, -4.77584034e-01,\n",
       "        -5.62326729e-01, -6.23078227e-01, -6.59251928e-01,\n",
       "        -3.07773978e-01,  6.79510474e-01,  1.36800694e+00,\n",
       "         1.57223129e+00,  1.60448718e+00,  1.67668068e+00,\n",
       "         1.83048570e+00,  1.41648221e+00, -4.51524764e-01,\n",
       "        -3.54017019e-01, -2.68543184e-01, -1.91750199e-01,\n",
       "        -1.24660455e-01, -6.43352345e-02, -2.87100654e-02,\n",
       "        -8.99783615e-03],\n",
       "       [-3.29633080e-03, -1.03209605e-02, -2.63224952e-02,\n",
       "        -5.94727769e-02, -1.16537198e-01, -1.97390229e-01,\n",
       "        -2.83805698e-01, -3.79412591e-01, -4.77584034e-01,\n",
       "        -5.62326729e-01, -3.80459100e-01,  4.67752665e-01,\n",
       "         1.46393263e+00,  1.67692387e+00,  1.59085870e+00,\n",
       "         1.57223129e+00,  1.60448718e+00,  1.18364239e+00,\n",
       "         1.22972980e-01, -5.54406047e-01, -4.51524764e-01,\n",
       "        -3.54017019e-01, -2.68543184e-01, -1.91750199e-01,\n",
       "        -1.24660455e-01, -6.43352345e-02, -2.87100654e-02,\n",
       "        -8.99783615e-03],\n",
       "       [-3.29633080e-03, -1.03209605e-02, -2.63224952e-02,\n",
       "        -5.94727769e-02, -1.16537198e-01, -1.97390229e-01,\n",
       "        -2.83805698e-01, -3.79412591e-01, -2.04794765e-01,\n",
       "         1.41737401e-01,  1.53016663e+00,  1.84190750e+00,\n",
       "         1.77544141e+00,  1.67692387e+00,  1.59085870e+00,\n",
       "         1.06216478e+00, -4.16298211e-03, -7.03177512e-01,\n",
       "        -6.51364148e-01, -5.54406047e-01, -4.51524764e-01,\n",
       "        -3.54017019e-01, -2.68543184e-01, -1.91750199e-01,\n",
       "        -1.24660455e-01, -6.43352345e-02, -2.87100654e-02,\n",
       "        -8.99783615e-03],\n",
       "       [-3.29633080e-03, -1.03209605e-02, -2.63224952e-02,\n",
       "        -5.94727769e-02, -1.16537198e-01, -1.97390229e-01,\n",
       "         4.43913825e-02,  2.03711987e+00,  2.11984396e+00,\n",
       "         2.13658571e+00,  1.93453193e+00,  1.84190750e+00,\n",
       "         1.77544141e+00,  1.12597167e+00, -1.55312652e-02,\n",
       "        -6.90608859e-01, -7.61724949e-01, -7.22140551e-01,\n",
       "        -6.51364148e-01, -5.54406047e-01, -4.51524764e-01,\n",
       "        -3.54017019e-01, -2.68543184e-01, -1.91750199e-01,\n",
       "        -1.24660455e-01, -6.43352345e-02, -2.87100654e-02,\n",
       "        -8.99783615e-03],\n",
       "       [-3.29633080e-03, -1.03209605e-02, -2.63224952e-02,\n",
       "        -5.94727769e-02,  2.36970687e+00,  4.28961515e+00,\n",
       "         3.83689117e+00,  3.19592476e+00,  2.52309775e+00,\n",
       "         2.13658571e+00,  1.93453193e+00,  1.75293338e+00,\n",
       "         6.07283235e-01, -6.21876478e-01, -7.58370578e-01,\n",
       "        -7.74074256e-01, -7.61724949e-01, -7.22140551e-01,\n",
       "        -6.51364148e-01, -5.54406047e-01, -4.51524764e-01,\n",
       "        -3.54017019e-01, -2.68543184e-01, -1.91750199e-01,\n",
       "        -1.24660455e-01, -6.43352345e-02, -2.87100654e-02,\n",
       "        -8.99783615e-03],\n",
       "       [-3.29633080e-03, -1.03209605e-02, -2.63224952e-02,\n",
       "        -5.94727769e-02,  6.03126621e+00,  6.40268135e+00,\n",
       "         4.32918692e+00,  3.19592476e+00,  2.03682137e+00,\n",
       "         8.77804399e-01,  7.11327076e-01, -5.01075864e-01,\n",
       "        -6.87425375e-01, -7.26367414e-01, -7.58370578e-01,\n",
       "        -7.74074256e-01, -7.61724949e-01, -7.22140551e-01,\n",
       "        -6.51364148e-01, -5.54406047e-01, -4.51524764e-01,\n",
       "        -3.54017019e-01, -2.68543184e-01, -1.91750199e-01,\n",
       "        -1.24660455e-01, -6.43352345e-02, -2.87100654e-02,\n",
       "        -8.99783615e-03],\n",
       "       [-3.29633080e-03, -1.03209605e-02, -2.63224952e-02,\n",
       "        -5.94727769e-02, -1.16537198e-01, -1.97390229e-01,\n",
       "        -2.83805698e-01, -3.79412591e-01, -4.77584034e-01,\n",
       "        -5.62326729e-01, -6.23078227e-01, -6.59251928e-01,\n",
       "        -6.87425375e-01, -7.26367414e-01, -7.58370578e-01,\n",
       "        -7.74074256e-01, -7.61724949e-01, -7.22140551e-01,\n",
       "        -6.51364148e-01, -5.54406047e-01, -4.51524764e-01,\n",
       "        -3.54017019e-01, -2.68543184e-01, -1.91750199e-01,\n",
       "        -1.24660455e-01, -6.43352345e-02, -2.87100654e-02,\n",
       "        -8.99783615e-03],\n",
       "       [-3.29633080e-03, -1.03209605e-02, -2.63224952e-02,\n",
       "        -5.94727769e-02, -1.16537198e-01, -1.97390229e-01,\n",
       "        -2.83805698e-01, -3.79412591e-01, -4.77584034e-01,\n",
       "        -5.62326729e-01, -6.23078227e-01, -6.59251928e-01,\n",
       "        -6.87425375e-01, -7.26367414e-01, -7.58370578e-01,\n",
       "        -7.74074256e-01, -7.61724949e-01, -7.22140551e-01,\n",
       "        -6.51364148e-01, -5.54406047e-01, -4.51524764e-01,\n",
       "        -3.54017019e-01, -2.68543184e-01, -1.91750199e-01,\n",
       "        -1.24660455e-01, -6.43352345e-02, -2.87100654e-02,\n",
       "        -8.99783615e-03],\n",
       "       [-3.29633080e-03, -1.03209605e-02, -2.63224952e-02,\n",
       "        -5.94727769e-02, -1.16537198e-01, -1.97390229e-01,\n",
       "        -2.83805698e-01, -3.79412591e-01, -4.77584034e-01,\n",
       "        -5.62326729e-01, -6.23078227e-01, -6.59251928e-01,\n",
       "        -6.87425375e-01, -7.26367414e-01, -7.58370578e-01,\n",
       "        -7.74074256e-01, -7.61724949e-01, -7.22140551e-01,\n",
       "        -6.51364148e-01, -5.54406047e-01, -4.51524764e-01,\n",
       "        -3.54017019e-01, -2.68543184e-01, -1.91750199e-01,\n",
       "        -1.24660455e-01, -6.43352345e-02, -2.87100654e-02,\n",
       "        -8.99783615e-03]], dtype=float32)>"
      ]
     },
     "execution_count": 18,
     "metadata": {},
     "output_type": "execute_result"
    }
   ],
   "source": [
    "X_train[0]"
   ]
  },
  {
   "cell_type": "code",
   "execution_count": 19,
   "metadata": {
    "colab": {
     "base_uri": "https://localhost:8080/",
     "height": 612
    },
    "id": "_HzHDyBK0Wyu",
    "outputId": "5f28500e-151f-4f1e-f706-da178bc2c8c5"
   },
   "outputs": [
    {
     "name": "stdout",
     "output_type": "stream",
     "text": [
      "Epoch 1/10\n",
      "1875/1875 [==============================] - 10s 5ms/step - loss: 0.2092 - accuracy: 0.9402\n",
      "Epoch 2/10\n",
      "1875/1875 [==============================] - 9s 5ms/step - loss: 0.0872 - accuracy: 0.9744\n",
      "Epoch 3/10\n",
      "1875/1875 [==============================] - 8s 5ms/step - loss: 0.0574 - accuracy: 0.9826\n",
      "Epoch 4/10\n",
      "1875/1875 [==============================] - 9s 5ms/step - loss: 0.0445 - accuracy: 0.9863\n",
      "Epoch 5/10\n",
      "1875/1875 [==============================] - 9s 5ms/step - loss: 0.0317 - accuracy: 0.9904\n",
      "Epoch 6/10\n",
      "1875/1875 [==============================] - 10s 5ms/step - loss: 0.0268 - accuracy: 0.9908\n",
      "Epoch 7/10\n",
      "1875/1875 [==============================] - 9s 5ms/step - loss: 0.0208 - accuracy: 0.9937\n",
      "Epoch 8/10\n",
      "1875/1875 [==============================] - 9s 5ms/step - loss: 0.0184 - accuracy: 0.9944\n",
      "Epoch 9/10\n",
      "1875/1875 [==============================] - 9s 5ms/step - loss: 0.0181 - accuracy: 0.9940\n",
      "Epoch 10/10\n",
      "1875/1875 [==============================] - 9s 5ms/step - loss: 0.0170 - accuracy: 0.9948\n"
     ]
    },
    {
     "data": {
      "image/png": "[encoded data removed]",
      "text/plain": [
       "<Figure size 432x288 with 1 Axes>"
      ]
     },
     "metadata": {
      "needs_background": "light"
     },
     "output_type": "display_data"
    }
   ],
   "source": [
    "model_2=tf.keras.Sequential()\n",
    "model_2.add(tf.keras.layers.Flatten())\n",
    "model_2.add(tf.keras.layers.Dense(300, activation='relu'))\n",
    "model_2.add(tf.keras.layers.Dense(10,activation='softmax'))\n",
    "\n",
    "model_2.compile(loss=tf.keras.losses.SparseCategoricalCrossentropy(),\n",
    "                optimizer=tf.keras.optimizers.Adam(),\n",
    "                metrics=['accuracy'])\n",
    "\n",
    "# Training the model\n",
    "tf.random.set_seed(100)\n",
    "\n",
    "# X_train is the normalosed training set\n",
    "hist_2=model_2.fit(X_train,y_train,epochs=10)\n",
    "pd.DataFrame(hist_2.history).plot();"
   ]
  },
  {
   "cell_type": "code",
   "execution_count": 20,
   "metadata": {
    "colab": {
     "base_uri": "https://localhost:8080/"
    },
    "id": "TK4ZxpiY1P7D",
    "outputId": "7236619c-503a-4b46-e211-4d11f9714ee0"
   },
   "outputs": [
    {
     "name": "stdout",
     "output_type": "stream",
     "text": [
      "313/313 [==============================] - 1s 3ms/step - loss: 0.1470 - accuracy: 0.9788\n"
     ]
    },
    {
     "data": {
      "text/plain": [
       "[0.14703814685344696, 0.9787999987602234]"
      ]
     },
     "execution_count": 20,
     "metadata": {},
     "output_type": "execute_result"
    }
   ],
   "source": [
    "model_2.evaluate(X_test,y_test)"
   ]
  },
  {
   "cell_type": "markdown",
   "metadata": {
    "id": "nfod5ucN1z5s"
   },
   "source": [
    "## Comment 2:\n",
    "\n",
    "Basic Model: Training loss=0.1852; Test loss=0.3103( Model is decent, but overfitting).\n",
    "\n",
    "Model with Normlization: Training loss=0.0170; Test loss=0.1470 ( Model improved, but overfitting still).\n",
    "\n"
   ]
  },
  {
   "cell_type": "markdown",
   "metadata": {
    "id": "OksOpYTO2XeW"
   },
   "source": [
    "## Model with Cross-validation"
   ]
  },
  {
   "cell_type": "code",
   "execution_count": 21,
   "metadata": {
    "colab": {
     "base_uri": "https://localhost:8080/",
     "height": 612
    },
    "id": "B0PimBot1r6n",
    "outputId": "1a6c3834-1733-473e-cb21-492843ea081e"
   },
   "outputs": [
    {
     "name": "stdout",
     "output_type": "stream",
     "text": [
      "Epoch 1/10\n",
      "1500/1500 [==============================] - 8s 5ms/step - loss: 0.2303 - accuracy: 0.9348 - val_loss: 0.1338 - val_accuracy: 0.9614\n",
      "Epoch 2/10\n",
      "1500/1500 [==============================] - 8s 5ms/step - loss: 0.0917 - accuracy: 0.9732 - val_loss: 0.0987 - val_accuracy: 0.9742\n",
      "Epoch 3/10\n",
      "1500/1500 [==============================] - 8s 5ms/step - loss: 0.0593 - accuracy: 0.9829 - val_loss: 0.1035 - val_accuracy: 0.9706\n",
      "Epoch 4/10\n",
      "1500/1500 [==============================] - 8s 5ms/step - loss: 0.0412 - accuracy: 0.9871 - val_loss: 0.0972 - val_accuracy: 0.9753\n",
      "Epoch 5/10\n",
      "1500/1500 [==============================] - 11s 7ms/step - loss: 0.0308 - accuracy: 0.9899 - val_loss: 0.1186 - val_accuracy: 0.9741\n",
      "Epoch 6/10\n",
      "1500/1500 [==============================] - 8s 5ms/step - loss: 0.0237 - accuracy: 0.9928 - val_loss: 0.1221 - val_accuracy: 0.9731\n",
      "Epoch 7/10\n",
      "1500/1500 [==============================] - 8s 5ms/step - loss: 0.0195 - accuracy: 0.9936 - val_loss: 0.1124 - val_accuracy: 0.9766\n",
      "Epoch 8/10\n",
      "1500/1500 [==============================] - 7s 5ms/step - loss: 0.0202 - accuracy: 0.9937 - val_loss: 0.1238 - val_accuracy: 0.9751\n",
      "Epoch 9/10\n",
      "1500/1500 [==============================] - 7s 5ms/step - loss: 0.0169 - accuracy: 0.9945 - val_loss: 0.1285 - val_accuracy: 0.9747\n",
      "Epoch 10/10\n",
      "1500/1500 [==============================] - 8s 5ms/step - loss: 0.0187 - accuracy: 0.9943 - val_loss: 0.1481 - val_accuracy: 0.9758\n"
     ]
    },
    {
     "data": {
      "image/png": "[encoded data removed]",
      "text/plain": [
       "<Figure size 432x288 with 1 Axes>"
      ]
     },
     "metadata": {
      "needs_background": "light"
     },
     "output_type": "display_data"
    }
   ],
   "source": [
    "model_3=tf.keras.Sequential()\n",
    "model_3.add(tf.keras.layers.Flatten())\n",
    "model_3.add(tf.keras.layers.Dense(300, activation='relu'))\n",
    "model_3.add(tf.keras.layers.Dense(10,activation='softmax'))\n",
    "\n",
    "model_3.compile(loss=tf.keras.losses.SparseCategoricalCrossentropy(),\n",
    "                optimizer=tf.keras.optimizers.Adam(),\n",
    "                metrics=['accuracy'])\n",
    "\n",
    "# Training the model\n",
    "tf.random.set_seed(100)\n",
    "\n",
    "# validation_split\n",
    "hist_3=model_3.fit(X_train,y_train,epochs=10,validation_split=0.2)\n",
    "pd.DataFrame(hist_3.history).plot();"
   ]
  },
  {
   "cell_type": "code",
   "execution_count": 22,
   "metadata": {
    "colab": {
     "base_uri": "https://localhost:8080/"
    },
    "id": "0nl0xfsU23_1",
    "outputId": "9ee83b7b-ee2c-411b-b83d-3a31cde508d0"
   },
   "outputs": [
    {
     "name": "stdout",
     "output_type": "stream",
     "text": [
      "313/313 [==============================] - 2s 5ms/step - loss: 0.1403 - accuracy: 0.9762\n"
     ]
    },
    {
     "data": {
      "text/plain": [
       "[0.14034612476825714, 0.9761999845504761]"
      ]
     },
     "execution_count": 22,
     "metadata": {},
     "output_type": "execute_result"
    }
   ],
   "source": [
    "model_3.evaluate(X_test,y_test)"
   ]
  },
  {
   "cell_type": "markdown",
   "metadata": {
    "id": "mamlmyOw5u8F"
   },
   "source": [
    "## Comment 3:\n",
    "\n",
    "Basic Model: Training loss=0.1852; Test loss=0.3103( Model is decent, but overfitting).\n",
    "\n",
    "Model with Normlization: Training loss=0.0170; Test loss=0. 1470 ( Model improved, but overfitting still).\n",
    "\n",
    "\n",
    "Model with Cross-validation: Trainig loss: 0.0187; Test loss=0.1403 ( Model has improved, but epoch needs to curtailed to reduce overfitting).\n",
    "\n"
   ]
  },
  {
   "cell_type": "markdown",
   "metadata": {
    "id": "FURoBF6j7aUx"
   },
   "source": [
    "## Early stopping"
   ]
  },
  {
   "cell_type": "code",
   "execution_count": null,
   "metadata": {
    "id": "um7PbxYH5qSb"
   },
   "outputs": [],
   "source": []
  }
 ],
 "metadata": {
  "colab": {
   "provenance": []
  },
  "kernelspec": {
   "display_name": "Python 3 (ipykernel)",
   "language": "python",
   "name": "python3"
  },
  "language_info": {
   "codemirror_mode": {
    "name": "ipython",
    "version": 3
   },
   "file_extension": ".py",
   "mimetype": "text/x-python",
   "name": "python",
   "nbconvert_exporter": "python",
   "pygments_lexer": "ipython3",
   "version": "3.9.13"
  }
 },
 "nbformat": 4,
 "nbformat_minor": 1
}
